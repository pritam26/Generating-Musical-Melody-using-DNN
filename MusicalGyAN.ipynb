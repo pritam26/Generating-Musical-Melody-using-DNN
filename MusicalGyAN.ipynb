{
 "cells": [
  {
   "cell_type": "code",
   "execution_count": 1,
   "metadata": {},
   "outputs": [
    {
     "name": "stderr",
     "output_type": "stream",
     "text": [
      "C:\\Users\\manda\\Anaconda3\\envs\\tensorflow\\lib\\site-packages\\h5py\\__init__.py:36: FutureWarning: Conversion of the second argument of issubdtype from `float` to `np.floating` is deprecated. In future, it will be treated as `np.float64 == np.dtype(float).type`.\n",
      "  from ._conv import register_converters as _register_converters\n"
     ]
    }
   ],
   "source": [
    "import wave\n",
    "from scipy.io import wavfile\n",
    "from matplotlib import pyplot as plt\n",
    "import glob, os, os.path\n",
    "import tensorflow"
   ]
  },
  {
   "cell_type": "code",
   "execution_count": 2,
   "metadata": {},
   "outputs": [
    {
     "ename": "FileNotFoundError",
     "evalue": "[Errno 2] No such file or directory: 'C://Users//manda//Desktop//alb_esp1.wav'",
     "output_type": "error",
     "traceback": [
      "\u001b[1;31m---------------------------------------------------------------------------\u001b[0m",
      "\u001b[1;31mFileNotFoundError\u001b[0m                         Traceback (most recent call last)",
      "\u001b[1;32m<ipython-input-2-d2a5f489ad0b>\u001b[0m in \u001b[0;36m<module>\u001b[1;34m()\u001b[0m\n\u001b[0;32m      1\u001b[0m \u001b[0mfileName\u001b[0m \u001b[1;33m=\u001b[0m \u001b[1;34m'C://Users//manda//Desktop//alb_esp1.wav'\u001b[0m\u001b[1;33m\u001b[0m\u001b[0m\n\u001b[1;32m----> 2\u001b[1;33m \u001b[0mdata\u001b[0m \u001b[1;33m=\u001b[0m \u001b[0mwavfile\u001b[0m\u001b[1;33m.\u001b[0m\u001b[0mread\u001b[0m\u001b[1;33m(\u001b[0m\u001b[0mfileName\u001b[0m\u001b[1;33m)\u001b[0m\u001b[1;33m\u001b[0m\u001b[0m\n\u001b[0m",
      "\u001b[1;32m~\\Anaconda3\\envs\\tensorflow\\lib\\site-packages\\scipy\\io\\wavfile.py\u001b[0m in \u001b[0;36mread\u001b[1;34m(filename, mmap)\u001b[0m\n\u001b[0;32m    231\u001b[0m         \u001b[0mmmap\u001b[0m \u001b[1;33m=\u001b[0m \u001b[1;32mFalse\u001b[0m\u001b[1;33m\u001b[0m\u001b[0m\n\u001b[0;32m    232\u001b[0m     \u001b[1;32melse\u001b[0m\u001b[1;33m:\u001b[0m\u001b[1;33m\u001b[0m\u001b[0m\n\u001b[1;32m--> 233\u001b[1;33m         \u001b[0mfid\u001b[0m \u001b[1;33m=\u001b[0m \u001b[0mopen\u001b[0m\u001b[1;33m(\u001b[0m\u001b[0mfilename\u001b[0m\u001b[1;33m,\u001b[0m \u001b[1;34m'rb'\u001b[0m\u001b[1;33m)\u001b[0m\u001b[1;33m\u001b[0m\u001b[0m\n\u001b[0m\u001b[0;32m    234\u001b[0m \u001b[1;33m\u001b[0m\u001b[0m\n\u001b[0;32m    235\u001b[0m     \u001b[1;32mtry\u001b[0m\u001b[1;33m:\u001b[0m\u001b[1;33m\u001b[0m\u001b[0m\n",
      "\u001b[1;31mFileNotFoundError\u001b[0m: [Errno 2] No such file or directory: 'C://Users//manda//Desktop//alb_esp1.wav'"
     ]
    }
   ],
   "source": [
    "fileName = 'C://Users//manda//Desktop//alb_esp1.wav'\n",
    "data = wavfile.read(fileName)"
   ]
  },
  {
   "cell_type": "code",
   "execution_count": 31,
   "metadata": {},
   "outputs": [
    {
     "name": "stdout",
     "output_type": "stream",
     "text": [
      "(44100, array([[0, 0],\n",
      "       [0, 0],\n",
      "       [0, 0],\n",
      "       ...,\n",
      "       [0, 0],\n",
      "       [0, 0],\n",
      "       [0, 0]], dtype=int16))\n"
     ]
    }
   ],
   "source": [
    "print(data)"
   ]
  },
  {
   "cell_type": "code",
   "execution_count": 14,
   "metadata": {},
   "outputs": [
    {
     "data": {
      "text/plain": [
       "[<matplotlib.lines.Line2D at 0x1afe91a0cf8>,\n",
       " <matplotlib.lines.Line2D at 0x1afe91a0ef0>]"
      ]
     },
     "execution_count": 14,
     "metadata": {},
     "output_type": "execute_result"
    },
    {
     "data": {
      "image/png": "[encoded data removed]",
      "text/plain": [
       "<Figure size 432x288 with 1 Axes>"
      ]
     },
     "metadata": {},
     "output_type": "display_data"
    }
   ],
   "source": [
    "plt.plot(data)"
   ]
  },
  {
   "cell_type": "code",
   "execution_count": 15,
   "metadata": {},
   "outputs": [
    {
     "data": {
      "text/plain": [
       "4210688"
      ]
     },
     "execution_count": 15,
     "metadata": {},
     "output_type": "execute_result"
    }
   ],
   "source": [
    "len(data)"
   ]
  },
  {
   "cell_type": "code",
   "execution_count": 3,
   "metadata": {},
   "outputs": [
    {
     "name": "stdout",
     "output_type": "stream",
     "text": [
      "[array([[0, 0],\n",
      "       [0, 0],\n",
      "       [0, 0],\n",
      "       ...,\n",
      "       [0, 0],\n",
      "       [0, 0],\n",
      "       [0, 0]], dtype=int16), array([[0, 0],\n",
      "       [0, 0],\n",
      "       [0, 0],\n",
      "       ...,\n",
      "       [0, 0],\n",
      "       [0, 0],\n",
      "       [0, 0]], dtype=int16), array([[ 0,  0],\n",
      "       [ 0,  0],\n",
      "       [ 0,  0],\n",
      "       ...,\n",
      "       [-1, -1],\n",
      "       [-1, -1],\n",
      "       [-1, -1]], dtype=int16), array([[  0,   0],\n",
      "       [  0,   0],\n",
      "       [  0,   0],\n",
      "       ...,\n",
      "       [-16,  -5],\n",
      "       [-33, -14],\n",
      "       [-53, -26]], dtype=int16), array([[ 0,  0],\n",
      "       [ 0,  0],\n",
      "       [ 0,  0],\n",
      "       ...,\n",
      "       [-2,  5],\n",
      "       [-2,  5],\n",
      "       [-2,  4]], dtype=int16), array([[  0,   0],\n",
      "       [  0,   0],\n",
      "       [  0,   0],\n",
      "       ...,\n",
      "       [ 78, 177],\n",
      "       [ 68, 190],\n",
      "       [ 51, 188]], dtype=int16), array([[ 0,  0],\n",
      "       [ 0,  0],\n",
      "       [ 0,  0],\n",
      "       ...,\n",
      "       [25, 24],\n",
      "       [25, 19],\n",
      "       [25, 14]], dtype=int16), array([[ 0,  0],\n",
      "       [ 0,  0],\n",
      "       [ 0,  0],\n",
      "       ...,\n",
      "       [-1,  0],\n",
      "       [-1,  0],\n",
      "       [-1,  0]], dtype=int16), array([[0, 0],\n",
      "       [0, 0],\n",
      "       [0, 0],\n",
      "       ...,\n",
      "       [0, 0],\n",
      "       [0, 0],\n",
      "       [0, 0]], dtype=int16), array([[ 0,  0],\n",
      "       [ 0,  0],\n",
      "       [ 0,  0],\n",
      "       ...,\n",
      "       [-1, -1],\n",
      "       [-1, -1],\n",
      "       [-1, -1]], dtype=int16), array([[ 0,  0],\n",
      "       [ 0,  0],\n",
      "       [ 0,  0],\n",
      "       ...,\n",
      "       [-1,  2],\n",
      "       [-1,  2],\n",
      "       [-1,  1]], dtype=int16), array([[ 0,  0],\n",
      "       [ 0,  0],\n",
      "       [ 0,  0],\n",
      "       ...,\n",
      "       [ 0, -1],\n",
      "       [ 0,  0],\n",
      "       [ 1,  0]], dtype=int16)] 4210688 5617477\n"
     ]
    }
   ],
   "source": [
    "data_NN = []\n",
    "os.chdir('C://Users//manda//Desktop//Wav files')\n",
    "for files in glob.glob(\"*.wav\"):\n",
    "    fs, data = wavfile.read(files)\n",
    "    data_NN.append(data)\n",
    "print(data_NN, len(data_NN[0]), len(data_NN[1]))"
   ]
  },
  {
   "cell_type": "code",
   "execution_count": null,
   "metadata": {},
   "outputs": [],
   "source": []
  }
 ],
 "metadata": {
  "kernelspec": {
   "display_name": "Python 3",
   "language": "python",
   "name": "python3"
  },
  "language_info": {
   "codemirror_mode": {
    "name": "ipython",
    "version": 3
   },
   "file_extension": ".py",
   "mimetype": "text/x-python",
   "name": "python",
   "nbconvert_exporter": "python",
   "pygments_lexer": "ipython3",
   "version": "3.5.5"
  }
 },
 "nbformat": 4,
 "nbformat_minor": 2
}
